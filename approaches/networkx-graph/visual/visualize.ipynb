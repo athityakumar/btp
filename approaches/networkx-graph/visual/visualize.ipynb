{
 "cells": [
  {
   "cell_type": "code",
   "execution_count": 1,
   "metadata": {},
   "outputs": [],
   "source": [
    "import networkx as nx\n",
    "import widgetsnbextension\n",
    "import sys"
   ]
  },
  {
   "cell_type": "code",
   "execution_count": 2,
   "metadata": {},
   "outputs": [
    {
     "data": {
      "application/javascript": [
       "if (window['cytoscape'] === undefined) {\n",
       "    var paths = {\n",
       "        cytoscape: 'https://cdnjs.cloudflare.com/ajax/libs/cytoscape/3.2.5/cytoscape.min'\n",
       "    };\n",
       "\n",
       "    require.config({\n",
       "        paths: paths\n",
       "    });\n",
       "\n",
       "    require(['cytoscape'], function (cytoscape) {\n",
       "        console.log('Loading Cytoscape.js Module...');\n",
       "        window['cytoscape'] = cytoscape;\n",
       "\n",
       "        var event = document.createEvent(\"HTMLEvents\");\n",
       "        event.initEvent(\"load_cytoscape\", true, false);\n",
       "        window.dispatchEvent(event);\n",
       "    });\n",
       "}"
      ],
      "text/plain": [
       "<IPython.core.display.Javascript object>"
      ]
     },
     "metadata": {},
     "output_type": "display_data"
    }
   ],
   "source": [
    "sys.path.insert(0, '../')\n",
    "from helper_methods import *\n",
    "from source_pairs import *\n",
    "\n",
    "sys.path.insert(0, 'py2cytoscape')\n",
    "from py2cytoscape.data.cyrest_client import CyRestClient\n",
    "from py2cytoscape.util import from_networkx\n",
    "from py2cytoscape.cytoscapejs import viewer as cyjs"
   ]
  },
  {
   "cell_type": "code",
   "execution_count": 3,
   "metadata": {
    "collapsed": true
   },
   "outputs": [],
   "source": [
    "source_G = import_source_graph_from_csv('../dumps/polish_high.csv')"
   ]
  },
  {
   "cell_type": "code",
   "execution_count": 5,
   "metadata": {
    "collapsed": true
   },
   "outputs": [],
   "source": [
    "def get_induced_subgraph_nodes(G, node, hop_size=1, nodes=set()):\n",
    "    nodes.add(node)\n",
    "    if hop_size > 0:\n",
    "        for neighbor in G[node]:\n",
    "            nodes.add(neighbor)\n",
    "            nodes = get_induced_subgraph_nodes(G, neighbor, hop_size-1, nodes)\n",
    "    return(nodes)\n",
    "\n",
    "def get_induced_from_subgraph(G, node, hop_size=1):\n",
    "    from_subnodes = get_induced_subgraph_nodes(source_G.reverse(copy=True), node, hop_size)\n",
    "    subgraph      = G.subgraph(list(from_subnodes))\n",
    "    return(subgraph)\n",
    "\n",
    "def get_induced_to_subgraph(G, node, hop_size=1):\n",
    "    to_subnodes   = get_induced_subgraph_nodes(source_G, node, hop_size)\n",
    "    subgraph      = G.subgraph(list(to_subnodes))\n",
    "    return(subgraph)\n",
    "\n",
    "def get_induced_subgraph(G, node, hop_size=1):\n",
    "    to_subnodes   = get_induced_subgraph_nodes(source_G, node, hop_size)\n",
    "    from_subnodes = get_induced_subgraph_nodes(source_G.reverse(copy=True), node, hop_size)\n",
    "    subgraph      = G.subgraph(list(from_subnodes | to_subnodes))\n",
    "    return(subgraph)"
   ]
  },
  {
   "cell_type": "code",
   "execution_count": 6,
   "metadata": {
    "collapsed": true
   },
   "outputs": [],
   "source": [
    "def plot(G, node, hop_size, style, layout):\n",
    "    subgraph = get_induced_subgraph(G, node, hop_size)\n",
    "    g_cyjs = from_networkx(subgraph)\n",
    "    cyjs.render(g_cyjs, style, layout_algorithm=layout)"
   ]
  },
  {
   "cell_type": "code",
   "execution_count": 8,
   "metadata": {},
   "outputs": [
    {
     "data": {
      "text/html": [
       "<!DOCTYPE html>\n",
       "<html>\n",
       "<head>\n",
       "    <meta charset=utf-8 />\n",
       "    <style type=\"text/css\">\n",
       "      body {\n",
       "          font: 14px helvetica neue, helvetica, arial, sans-serif;\n",
       "      }\n",
       "\n",
       "      #cy826b01a4-5ca6-4d2e-a4f5-9a8ed07f298b {\n",
       "        height: 700px;\n",
       "        width: 1098px;\n",
       "        position: absolute;\n",
       "        left: 4px;\n",
       "        top: 5px;\n",
       "        background: #FFFFFF;\n",
       "      }\n",
       "    </style>\n",
       "\n",
       "    <script>\n",
       "    (function() {\n",
       "      function render() {\n",
       "        cytoscape({\n",
       "            container: $('#cy826b01a4-5ca6-4d2e-a4f5-9a8ed07f298b'),\n",
       "            elements: {\n",
       "                nodes: [{\"data\": {\"id\": \"start\", \"name\": \"start\"}}, {\"data\": {\"id\": \"s\", \"name\": \"s\"}}, {\"data\": {\"id\": \"e\", \"name\": \"e\"}}, {\"data\": {\"id\": \"z\", \"name\": \"z\"}}, {\"data\": {\"id\": \"t\", \"name\": \"t\"}}, {\"data\": {\"id\": \"r\", \"name\": \"r\"}}, {\"data\": {\"id\": \"j\", \"name\": \"j\"}}, {\"data\": {\"id\": \"na\", \"name\": \"na\"}}, {\"data\": {\"id\": \"dwu\", \"name\": \"dwu\"}}],\n",
       "                edges: [{\"data\": {\"weight\": 3665, \"source\": \"start\", \"target\": \"s\"}}, {\"data\": {\"weight\": 2078, \"source\": \"start\", \"target\": \"z\"}}, {\"data\": {\"weight\": 1507, \"source\": \"start\", \"target\": \"r\"}}, {\"data\": {\"weight\": 1376, \"source\": \"start\", \"target\": \"t\"}}, {\"data\": {\"weight\": 834, \"source\": \"start\", \"target\": \"j\"}}, {\"data\": {\"weight\": 644, \"source\": \"start\", \"target\": \"e\"}}, {\"data\": {\"weight\": 135, \"source\": \"start\", \"target\": \"na\"}}, {\"data\": {\"weight\": 9, \"source\": \"start\", \"target\": \"dwu\"}}, {\"data\": {\"weight\": 1875, \"source\": \"s\", \"target\": \"t\"}}, {\"data\": {\"weight\": 1620, \"source\": \"s\", \"target\": \"z\"}}, {\"data\": {\"weight\": 366, \"source\": \"s\", \"target\": \"e\"}}, {\"data\": {\"weight\": 88, \"source\": \"s\", \"target\": \"j\"}}, {\"data\": {\"weight\": 24, \"source\": \"s\", \"target\": \"r\"}}, {\"data\": {\"weight\": 24, \"source\": \"s\", \"target\": \"s\"}}, {\"data\": {\"weight\": 4, \"source\": \"s\", \"target\": \"na\"}}, {\"data\": {\"weight\": 1653, \"source\": \"e\", \"target\": \"r\"}}, {\"data\": {\"weight\": 632, \"source\": \"e\", \"target\": \"s\"}}, {\"data\": {\"weight\": 616, \"source\": \"e\", \"target\": \"t\"}}, {\"data\": {\"weight\": 355, \"source\": \"e\", \"target\": \"j\"}}, {\"data\": {\"weight\": 353, \"source\": \"e\", \"target\": \"z\"}}, {\"data\": {\"weight\": 17, \"source\": \"e\", \"target\": \"e\"}}, {\"data\": {\"weight\": 12, \"source\": \"e\", \"target\": \"na\"}}, {\"data\": {\"weight\": 1, \"source\": \"e\", \"target\": \"dwu\"}}, {\"data\": {\"weight\": 1128, \"source\": \"z\", \"target\": \"e\"}}, {\"data\": {\"weight\": 118, \"source\": \"z\", \"target\": \"j\"}}, {\"data\": {\"weight\": 102, \"source\": \"z\", \"target\": \"r\"}}, {\"data\": {\"weight\": 91, \"source\": \"z\", \"target\": \"t\"}}, {\"data\": {\"weight\": 53, \"source\": \"z\", \"target\": \"s\"}}, {\"data\": {\"weight\": 48, \"source\": \"z\", \"target\": \"na\"}}, {\"data\": {\"weight\": 9, \"source\": \"z\", \"target\": \"z\"}}, {\"data\": {\"weight\": 1027, \"source\": \"t\", \"target\": \"r\"}}, {\"data\": {\"weight\": 990, \"source\": \"t\", \"target\": \"e\"}}, {\"data\": {\"weight\": 14, \"source\": \"t\", \"target\": \"s\"}}, {\"data\": {\"weight\": 5, \"source\": \"t\", \"target\": \"na\"}}, {\"data\": {\"weight\": 1751, \"source\": \"r\", \"target\": \"z\"}}, {\"data\": {\"weight\": 787, \"source\": \"r\", \"target\": \"e\"}}, {\"data\": {\"weight\": 261, \"source\": \"r\", \"target\": \"t\"}}, {\"data\": {\"weight\": 222, \"source\": \"r\", \"target\": \"s\"}}, {\"data\": {\"weight\": 18, \"source\": \"r\", \"target\": \"r\"}}, {\"data\": {\"weight\": 17, \"source\": \"r\", \"target\": \"na\"}}, {\"data\": {\"weight\": 384, \"source\": \"j\", \"target\": \"e\"}}, {\"data\": {\"weight\": 207, \"source\": \"j\", \"target\": \"s\"}}, {\"data\": {\"weight\": 47, \"source\": \"j\", \"target\": \"r\"}}, {\"data\": {\"weight\": 22, \"source\": \"j\", \"target\": \"t\"}}, {\"data\": {\"weight\": 7, \"source\": \"j\", \"target\": \"z\"}}, {\"data\": {\"weight\": 24, \"source\": \"na\", \"target\": \"j\"}}, {\"data\": {\"weight\": 18, \"source\": \"na\", \"target\": \"r\"}}, {\"data\": {\"weight\": 14, \"source\": \"na\", \"target\": \"s\"}}, {\"data\": {\"weight\": 12, \"source\": \"na\", \"target\": \"t\"}}, {\"data\": {\"weight\": 9, \"source\": \"na\", \"target\": \"z\"}}, {\"data\": {\"weight\": 3, \"source\": \"dwu\", \"target\": \"z\"}}, {\"data\": {\"weight\": 2, \"source\": \"dwu\", \"target\": \"r\"}}, {\"data\": {\"weight\": 2, \"source\": \"dwu\", \"target\": \"j\"}}, {\"data\": {\"weight\": 1, \"source\": \"dwu\", \"target\": \"s\"}}, {\"data\": {\"weight\": 1, \"source\": \"dwu\", \"target\": \"t\"}}, {\"data\": {\"weight\": 1, \"source\": \"dwu\", \"target\": \"na\"}}]\n",
       "            },\n",
       "            layout: {\n",
       "                name: 'circle'\n",
       "            },\n",
       "\n",
       "            boxSelectionEnabled: true,\n",
       "\n",
       "            ready: function() {\n",
       "                window.cy = this;\n",
       "                cy.fit();\n",
       "                cy.style().fromJson([{\"selector\": \"node\", \"css\": {\"width\": 45.0, \"border-color\": \"rgb(51,51,51)\", \"text-valign\": \"center\", \"text-halign\": \"center\", \"text-opacity\": 1.0, \"border-opacity\": 1.0, \"background-opacity\": 1.0, \"font-size\": 15, \"height\": 45.0, \"shape\": \"ellipse\", \"color\": \"rgb(0,0,255)\", \"border-width\": 3.0, \"background-color\": \"rgb(255,255,255)\", \"font-family\": \"SansSerif\", \"font-weight\": \"normal\", \"content\": \"data(name)\"}}, {\"selector\": \"node:selected\", \"css\": {\"background-color\": \"rgb(255,0,102)\", \"color\": \"#fff\"}}, {\"selector\": \"edge\", \"css\": {\"curve-style\": \"bezier\", \"target-arrow-shape\": \"triangle\", \"width\": 2, \"line-color\": \"rgb(51,51,51)\", \"target-arrow-color\": \"#000\", \"font-size\": 12, \"color\": \"rgb(0,0,255)\", \"line-style\": \"solid\", \"text-opacity\": 1.0, \"font-family\": \"SansSerif\", \"font-weight\": \"normal\", \"source-arrow-color\": \"rgb(0,0,0)\", \"source-arrow-shape\": \"none\", \"opacity\": 1.0, \"content\": \"data(interaction)\", \"label\": \"data(weight)\"}}, {\"selector\": \"edge:selected\", \"css\": {\"line-color\": \"rgb(255,0,0)\", \"target-arrow-color\": \"rgb(255,0,0)\", \"color\": \"rgb(255,0,0)\"}}]).update();\n",
       "            }\n",
       "        });\n",
       "      }\n",
       "\n",
       "      var before_render = function(){\n",
       "        if(window['cytoscape'] === undefined){\n",
       "          console.log(\"Waiting for Cyjs...\");\n",
       "          window.addEventListener(\"load_cytoscape\", before_render);\n",
       "        } else {\n",
       "          console.log(\"Ready to render graph!\");\n",
       "          render();\n",
       "        }\n",
       "      }\n",
       "\n",
       "      before_render();\n",
       "\n",
       "    })();\n",
       "    </script>\n",
       "</head>\n",
       "\n",
       "<body>\n",
       "  <div id=\"cy826b01a4-5ca6-4d2e-a4f5-9a8ed07f298b\"></div>\n",
       "  <!-- When only #uuid div is placed on this page,\n",
       "  the height of output-box on ipynb will be 0px.\n",
       "  One line below will prevent that. -->\n",
       "  <div id=\"dummy\" style=\"width:1098px;height:700px\">\n",
       "</body>\n",
       "\n",
       "</html>"
      ],
      "text/plain": [
       "<IPython.core.display.HTML object>"
      ]
     },
     "metadata": {},
     "output_type": "display_data"
    }
   ],
   "source": [
    "node     = 'dwu'\n",
    "hop_size = 1\n",
    "layouts = ['preset','circle','concentric','breadthfirst','cose','grid']\n",
    "styles  = ['default','default2','Minimal','Directed','Big Labels', 'Ripple', 'Sample1', 'Solid']\n",
    "plot(source_G, node, hop_size, styles[3], layouts[1])"
   ]
  }
 ],
 "metadata": {
  "kernelspec": {
   "display_name": "Python 3",
   "language": "python",
   "name": "python3"
  },
  "language_info": {
   "codemirror_mode": {
    "name": "ipython",
    "version": 3
   },
   "file_extension": ".py",
   "mimetype": "text/x-python",
   "name": "python",
   "nbconvert_exporter": "python",
   "pygments_lexer": "ipython3",
   "version": "3.6.1"
  }
 },
 "nbformat": 4,
 "nbformat_minor": 2
}
