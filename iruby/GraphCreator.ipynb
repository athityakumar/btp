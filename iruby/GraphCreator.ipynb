{
 "cells": [
  {
   "cell_type": "code",
   "execution_count": 1,
   "metadata": {},
   "outputs": [
    {
     "ename": "FileNotFoundError",
     "evalue": "File b'transM.csv' does not exist",
     "output_type": "error",
     "traceback": [
      "\u001b[0;31m---------------------------------------------------------------------------\u001b[0m",
      "\u001b[0;31mFileNotFoundError\u001b[0m                         Traceback (most recent call last)",
      "\u001b[0;32m<ipython-input-1-94b4f0b7b90f>\u001b[0m in \u001b[0;36m<module>\u001b[0;34m()\u001b[0m\n\u001b[1;32m      1\u001b[0m \u001b[0;32mimport\u001b[0m \u001b[0mpandas\u001b[0m\u001b[0;34m\u001b[0m\u001b[0m\n\u001b[1;32m      2\u001b[0m \u001b[0;31m# Save the tranMat datafram from transMat notebook as transM.csv file\u001b[0m\u001b[0;34m\u001b[0m\u001b[0;34m\u001b[0m\u001b[0m\n\u001b[0;32m----> 3\u001b[0;31m \u001b[0mpd\u001b[0m \u001b[0;34m=\u001b[0m \u001b[0mpandas\u001b[0m\u001b[0;34m.\u001b[0m\u001b[0mread_csv\u001b[0m\u001b[0;34m(\u001b[0m\u001b[0;34m'transM.csv'\u001b[0m\u001b[0;34m)\u001b[0m\u001b[0;34m\u001b[0m\u001b[0m\n\u001b[0m\u001b[1;32m      4\u001b[0m \u001b[0;32mdel\u001b[0m \u001b[0mpd\u001b[0m\u001b[0;34m[\u001b[0m\u001b[0;34m'Unnamed: 0'\u001b[0m\u001b[0;34m]\u001b[0m\u001b[0;34m\u001b[0m\u001b[0m\n\u001b[1;32m      5\u001b[0m \u001b[0mpd\u001b[0m\u001b[0;34m.\u001b[0m\u001b[0mhead\u001b[0m\u001b[0;34m(\u001b[0m\u001b[0;36m5\u001b[0m\u001b[0;34m)\u001b[0m\u001b[0;34m\u001b[0m\u001b[0m\n",
      "\u001b[0;32m/usr/local/lib/python3.6/site-packages/pandas/io/parsers.py\u001b[0m in \u001b[0;36mparser_f\u001b[0;34m(filepath_or_buffer, sep, delimiter, header, names, index_col, usecols, squeeze, prefix, mangle_dupe_cols, dtype, engine, converters, true_values, false_values, skipinitialspace, skiprows, nrows, na_values, keep_default_na, na_filter, verbose, skip_blank_lines, parse_dates, infer_datetime_format, keep_date_col, date_parser, dayfirst, iterator, chunksize, compression, thousands, decimal, lineterminator, quotechar, quoting, escapechar, comment, encoding, dialect, tupleize_cols, error_bad_lines, warn_bad_lines, skipfooter, skip_footer, doublequote, delim_whitespace, as_recarray, compact_ints, use_unsigned, low_memory, buffer_lines, memory_map, float_precision)\u001b[0m\n\u001b[1;32m    653\u001b[0m                     skip_blank_lines=skip_blank_lines)\n\u001b[1;32m    654\u001b[0m \u001b[0;34m\u001b[0m\u001b[0m\n\u001b[0;32m--> 655\u001b[0;31m         \u001b[0;32mreturn\u001b[0m \u001b[0m_read\u001b[0m\u001b[0;34m(\u001b[0m\u001b[0mfilepath_or_buffer\u001b[0m\u001b[0;34m,\u001b[0m \u001b[0mkwds\u001b[0m\u001b[0;34m)\u001b[0m\u001b[0;34m\u001b[0m\u001b[0m\n\u001b[0m\u001b[1;32m    656\u001b[0m \u001b[0;34m\u001b[0m\u001b[0m\n\u001b[1;32m    657\u001b[0m     \u001b[0mparser_f\u001b[0m\u001b[0;34m.\u001b[0m\u001b[0m__name__\u001b[0m \u001b[0;34m=\u001b[0m \u001b[0mname\u001b[0m\u001b[0;34m\u001b[0m\u001b[0m\n",
      "\u001b[0;32m/usr/local/lib/python3.6/site-packages/pandas/io/parsers.py\u001b[0m in \u001b[0;36m_read\u001b[0;34m(filepath_or_buffer, kwds)\u001b[0m\n\u001b[1;32m    403\u001b[0m \u001b[0;34m\u001b[0m\u001b[0m\n\u001b[1;32m    404\u001b[0m     \u001b[0;31m# Create the parser.\u001b[0m\u001b[0;34m\u001b[0m\u001b[0;34m\u001b[0m\u001b[0m\n\u001b[0;32m--> 405\u001b[0;31m     \u001b[0mparser\u001b[0m \u001b[0;34m=\u001b[0m \u001b[0mTextFileReader\u001b[0m\u001b[0;34m(\u001b[0m\u001b[0mfilepath_or_buffer\u001b[0m\u001b[0;34m,\u001b[0m \u001b[0;34m**\u001b[0m\u001b[0mkwds\u001b[0m\u001b[0;34m)\u001b[0m\u001b[0;34m\u001b[0m\u001b[0m\n\u001b[0m\u001b[1;32m    406\u001b[0m \u001b[0;34m\u001b[0m\u001b[0m\n\u001b[1;32m    407\u001b[0m     \u001b[0;32mif\u001b[0m \u001b[0mchunksize\u001b[0m \u001b[0;32mor\u001b[0m \u001b[0miterator\u001b[0m\u001b[0;34m:\u001b[0m\u001b[0;34m\u001b[0m\u001b[0m\n",
      "\u001b[0;32m/usr/local/lib/python3.6/site-packages/pandas/io/parsers.py\u001b[0m in \u001b[0;36m__init__\u001b[0;34m(self, f, engine, **kwds)\u001b[0m\n\u001b[1;32m    762\u001b[0m             \u001b[0mself\u001b[0m\u001b[0;34m.\u001b[0m\u001b[0moptions\u001b[0m\u001b[0;34m[\u001b[0m\u001b[0;34m'has_index_names'\u001b[0m\u001b[0;34m]\u001b[0m \u001b[0;34m=\u001b[0m \u001b[0mkwds\u001b[0m\u001b[0;34m[\u001b[0m\u001b[0;34m'has_index_names'\u001b[0m\u001b[0;34m]\u001b[0m\u001b[0;34m\u001b[0m\u001b[0m\n\u001b[1;32m    763\u001b[0m \u001b[0;34m\u001b[0m\u001b[0m\n\u001b[0;32m--> 764\u001b[0;31m         \u001b[0mself\u001b[0m\u001b[0;34m.\u001b[0m\u001b[0m_make_engine\u001b[0m\u001b[0;34m(\u001b[0m\u001b[0mself\u001b[0m\u001b[0;34m.\u001b[0m\u001b[0mengine\u001b[0m\u001b[0;34m)\u001b[0m\u001b[0;34m\u001b[0m\u001b[0m\n\u001b[0m\u001b[1;32m    765\u001b[0m \u001b[0;34m\u001b[0m\u001b[0m\n\u001b[1;32m    766\u001b[0m     \u001b[0;32mdef\u001b[0m \u001b[0mclose\u001b[0m\u001b[0;34m(\u001b[0m\u001b[0mself\u001b[0m\u001b[0;34m)\u001b[0m\u001b[0;34m:\u001b[0m\u001b[0;34m\u001b[0m\u001b[0m\n",
      "\u001b[0;32m/usr/local/lib/python3.6/site-packages/pandas/io/parsers.py\u001b[0m in \u001b[0;36m_make_engine\u001b[0;34m(self, engine)\u001b[0m\n\u001b[1;32m    983\u001b[0m     \u001b[0;32mdef\u001b[0m \u001b[0m_make_engine\u001b[0m\u001b[0;34m(\u001b[0m\u001b[0mself\u001b[0m\u001b[0;34m,\u001b[0m \u001b[0mengine\u001b[0m\u001b[0;34m=\u001b[0m\u001b[0;34m'c'\u001b[0m\u001b[0;34m)\u001b[0m\u001b[0;34m:\u001b[0m\u001b[0;34m\u001b[0m\u001b[0m\n\u001b[1;32m    984\u001b[0m         \u001b[0;32mif\u001b[0m \u001b[0mengine\u001b[0m \u001b[0;34m==\u001b[0m \u001b[0;34m'c'\u001b[0m\u001b[0;34m:\u001b[0m\u001b[0;34m\u001b[0m\u001b[0m\n\u001b[0;32m--> 985\u001b[0;31m             \u001b[0mself\u001b[0m\u001b[0;34m.\u001b[0m\u001b[0m_engine\u001b[0m \u001b[0;34m=\u001b[0m \u001b[0mCParserWrapper\u001b[0m\u001b[0;34m(\u001b[0m\u001b[0mself\u001b[0m\u001b[0;34m.\u001b[0m\u001b[0mf\u001b[0m\u001b[0;34m,\u001b[0m \u001b[0;34m**\u001b[0m\u001b[0mself\u001b[0m\u001b[0;34m.\u001b[0m\u001b[0moptions\u001b[0m\u001b[0;34m)\u001b[0m\u001b[0;34m\u001b[0m\u001b[0m\n\u001b[0m\u001b[1;32m    986\u001b[0m         \u001b[0;32melse\u001b[0m\u001b[0;34m:\u001b[0m\u001b[0;34m\u001b[0m\u001b[0m\n\u001b[1;32m    987\u001b[0m             \u001b[0;32mif\u001b[0m \u001b[0mengine\u001b[0m \u001b[0;34m==\u001b[0m \u001b[0;34m'python'\u001b[0m\u001b[0;34m:\u001b[0m\u001b[0;34m\u001b[0m\u001b[0m\n",
      "\u001b[0;32m/usr/local/lib/python3.6/site-packages/pandas/io/parsers.py\u001b[0m in \u001b[0;36m__init__\u001b[0;34m(self, src, **kwds)\u001b[0m\n\u001b[1;32m   1603\u001b[0m         \u001b[0mkwds\u001b[0m\u001b[0;34m[\u001b[0m\u001b[0;34m'allow_leading_cols'\u001b[0m\u001b[0;34m]\u001b[0m \u001b[0;34m=\u001b[0m \u001b[0mself\u001b[0m\u001b[0;34m.\u001b[0m\u001b[0mindex_col\u001b[0m \u001b[0;32mis\u001b[0m \u001b[0;32mnot\u001b[0m \u001b[0;32mFalse\u001b[0m\u001b[0;34m\u001b[0m\u001b[0m\n\u001b[1;32m   1604\u001b[0m \u001b[0;34m\u001b[0m\u001b[0m\n\u001b[0;32m-> 1605\u001b[0;31m         \u001b[0mself\u001b[0m\u001b[0;34m.\u001b[0m\u001b[0m_reader\u001b[0m \u001b[0;34m=\u001b[0m \u001b[0mparsers\u001b[0m\u001b[0;34m.\u001b[0m\u001b[0mTextReader\u001b[0m\u001b[0;34m(\u001b[0m\u001b[0msrc\u001b[0m\u001b[0;34m,\u001b[0m \u001b[0;34m**\u001b[0m\u001b[0mkwds\u001b[0m\u001b[0;34m)\u001b[0m\u001b[0;34m\u001b[0m\u001b[0m\n\u001b[0m\u001b[1;32m   1606\u001b[0m \u001b[0;34m\u001b[0m\u001b[0m\n\u001b[1;32m   1607\u001b[0m         \u001b[0;31m# XXX\u001b[0m\u001b[0;34m\u001b[0m\u001b[0;34m\u001b[0m\u001b[0m\n",
      "\u001b[0;32mpandas/_libs/parsers.pyx\u001b[0m in \u001b[0;36mpandas._libs.parsers.TextReader.__cinit__ (pandas/_libs/parsers.c:4209)\u001b[0;34m()\u001b[0m\n",
      "\u001b[0;32mpandas/_libs/parsers.pyx\u001b[0m in \u001b[0;36mpandas._libs.parsers.TextReader._setup_parser_source (pandas/_libs/parsers.c:8873)\u001b[0;34m()\u001b[0m\n",
      "\u001b[0;31mFileNotFoundError\u001b[0m: File b'transM.csv' does not exist"
     ]
    }
   ],
   "source": [
    "import pandas\n",
    "# Save the tranMat datafram from transMat notebook as transM.csv file \n",
    "pd = pandas.read_csv('transM.csv')\n",
    "del pd['Unnamed: 0']\n",
    "pd.head(5)"
   ]
  },
  {
   "cell_type": "code",
   "execution_count": null,
   "metadata": {},
   "outputs": [],
   "source": [
    "extreme = pd.groupby(['chara_x','lpos_x','rpos_x','chara_y','lpos_y','rpos_y']).count().sort_values('indi',ascending=False)\n",
    "extreme"
   ]
  },
  {
   "cell_type": "code",
   "execution_count": null,
   "metadata": {},
   "outputs": [],
   "source": [
    "import networkx as nx\n",
    "G=nx.DiGraph()\n",
    "G.add_nodes_from(pd['chara_x'].unique())\n",
    "G.add_nodes_from(pd['chara_y'].unique())\n",
    "newList = pd['chara_x']+'_'+pd['lpos_x'].map(str)\n",
    "G.add_nodes_from(newList.unique())\n",
    "newList = pd['chara_x']+'||'+pd['rpos_x'].map(str)\n",
    "G.add_nodes_from(newList.unique())\n",
    "newList = pd['chara_x']+'_'+pd['lpos_x'].map(str)+'||'+pd['rpos_x'].map(str)\n",
    "G.add_nodes_from(newList.unique())\n",
    "G.number_of_nodes(),G.nodes()"
   ]
  },
  {
   "cell_type": "code",
   "execution_count": null,
   "metadata": {},
   "outputs": [],
   "source": [
    "G.nodes()"
   ]
  },
  {
   "cell_type": "code",
   "execution_count": null,
   "metadata": {},
   "outputs": [],
   "source": [
    "617+583+32+4876\n"
   ]
  },
  {
   "cell_type": "code",
   "execution_count": null,
   "metadata": {},
   "outputs": [],
   "source": [
    "xCharyAll = pd.groupby(['chara_x','chara_y','lpos_y','rpos_y']).count().sort_values('indi',ascending=False)\n",
    "xCharyLeft = pd.groupby(['chara_x','chara_y','lpos_y']).count().sort_values('indi',ascending=False)\n",
    "xCharyRight = pd.groupby(['chara_x','chara_y','rpos_y']).count().sort_values('indi',ascending=False)\n",
    "onlyChara = pd.groupby(['chara_x','chara_y']).count().sort_values('indi',ascending=False)\n",
    "\n",
    "xLeftyAll = pd.groupby(['chara_x','lpos_x','chara_y','lpos_y','rpos_y']).count().sort_values('indi',ascending=False)\n",
    "onlyLeft = pd.groupby(['chara_x','lpos_x','chara_y','lpos_y']).count().sort_values('indi',ascending=False)\n",
    "xLeftyRight = pd.groupby(['chara_x','lpos_x','chara_y','rpos_y']).count().sort_values('indi',ascending=False)\n",
    "xLeftyChar = pd.groupby(['chara_x','lpos_x','chara_y']).count().sort_values('indi',ascending=False)\n",
    "\n",
    "\n",
    "\n",
    "xRightyAll = pd.groupby(['chara_x','rpos_x','chara_y','lpos_y','rpos_y']).count().sort_values('indi',ascending=False)\n",
    "xRightyLeft = pd.groupby(['chara_x','rpos_x','chara_y','lpos_y']).count().sort_values('indi',ascending=False)\n",
    "onlyRight = pd.groupby(['chara_x','rpos_x','chara_y','rpos_y']).count().sort_values('indi',ascending=False)\n",
    "xRightyChar = pd.groupby(['chara_x','rpos_x','chara_y']).count().sort_values('indi',ascending=False)\n",
    "\n",
    "\n",
    "extreme = pd.groupby(['chara_x','lpos_x','rpos_x','chara_y','lpos_y','rpos_y']).count().sort_values('indi',ascending=False)\n",
    "xAllyLeft = pd.groupby(['chara_x','lpos_x','rpos_x','chara_y','lpos_y']).count().sort_values('indi',ascending=False)\n",
    "xAllyRight = pd.groupby(['chara_x','lpos_x','rpos_x','chara_y','rpos_y']).count().sort_values('indi',ascending=False)\n",
    "xAllyChar = pd.groupby(['chara_x','lpos_x','rpos_x','chara_y']).count().sort_values('indi',ascending=False)\n",
    "\n",
    "xRightyAll.head()"
   ]
  },
  {
   "cell_type": "code",
   "execution_count": null,
   "metadata": {},
   "outputs": [],
   "source": [
    "%%time\n",
    "print(G.number_of_nodes())\n",
    "for i,item in extreme.itertuples():\n",
    "    node1 = i[0]+'_'+str(i[1])+'||'+str(i[2])\n",
    "    node2 = i[3]+'_'+str(i[4])+'||'+str(i[5])\n",
    "    G.add_weighted_edges_from([(node1,node2,item)])\n",
    "\n",
    "for i in onlyLeft.itertuples():\n",
    "    node1 = i[0][0]+'_'+str(i[0][1])\n",
    "    node2 = i[0][2]+'_'+str(i[0][3])\n",
    "    G.add_weighted_edges_from([(node1,node2,i[1])])    \n",
    "    \n",
    "    \n",
    "for i in onlyRight.itertuples():\n",
    "    node1 = i[0][0]+'||'+str(i[0][1])\n",
    "    node2 = i[0][2]+'||'+str(i[0][3])\n",
    "    G.add_weighted_edges_from([(node1,node2,i[1])])    \n",
    "    \n",
    "    \n",
    "for i in onlyChara.itertuples():\n",
    "    node1 = i[0][0]\n",
    "    node2 = i[0][1]\n",
    "    G.add_weighted_edges_from([(node1,node2,i[1])])    \n",
    "    \n",
    "    \n",
    "for i in xAllyLeft.itertuples():\n",
    "    node1 = i[0][0]+'_'+str(i[0][1]) + '||'+str(i[0][2])\n",
    "    node2 = i[0][3]+'_'+str(i[0][4])\n",
    "    G.add_weighted_edges_from([(node1,node2,i[1])])    \n",
    "    \n",
    "for i in xAllyRight.itertuples():\n",
    "    node1 = i[0][0]+'_'+str(i[0][1]) + '||'+str(i[0][2])\n",
    "    node2 = i[0][3]+'||'+str(i[0][4])\n",
    "    G.add_weighted_edges_from([(node1,node2,i[1])])    \n",
    "\n",
    "for i in xAllyChar.itertuples():\n",
    "    node1 = i[0][0]+'_'+str(i[0][1]) + '||'+str(i[0][2])\n",
    "    node2 = i[0][3]\n",
    "    G.add_weighted_edges_from([(node1,node2,i[1])])    \n",
    "\n",
    "\n",
    "for i in xLeftyRight.itertuples():\n",
    "    node1 = i[0][0]+'_'+str(i[0][1]) \n",
    "    node2 = i[0][2]+'||'+str(i[0][3])\n",
    "    G.add_weighted_edges_from([(node1,node2,i[1])])    \n",
    "\n",
    "for i in xLeftyChar.itertuples():\n",
    "    node1 = i[0][0]+'_'+str(i[0][1]) \n",
    "    node2 = i[0][2]\n",
    "    G.add_weighted_edges_from([(node1,node2,i[1])])    \n",
    "\n",
    "    \n",
    "for i in xRightyLeft.itertuples():\n",
    "    node1 = i[0][0]+'||'+str(i[0][1]) \n",
    "    node2 = i[0][2]+'_'+str(i[0][3])\n",
    "    G.add_weighted_edges_from([(node1,node2,i[1])])    \n",
    "\n",
    "for i in xRightyChar.itertuples():\n",
    "    node1 = i[0][0]+'||'+str(i[0][1]) \n",
    "    node2 = i[0][2]\n",
    "    G.add_weighted_edges_from([(node1,node2,i[1])])    \n",
    "    \n",
    "\n",
    "for i in xLeftyAll.itertuples():\n",
    "    node1 = i[0][0]+'_'+str(i[0][1]) \n",
    "    node2 = i[0][2]+'_'+str(i[0][3])+'||'+str(i[0][4])\n",
    "    G.add_weighted_edges_from([(node1,node2,i[1])]) \n",
    "    \n",
    "    \n",
    "for i in xRightyAll.itertuples():\n",
    "    node1 = i[0][0]+'||'+str(i[0][1]) \n",
    "    node2 = i[0][2]+'_'+str(i[0][3])+'||'+str(i[0][4])\n",
    "    G.add_weighted_edges_from([(node1,node2,i[1])])    \n",
    "\n",
    "    \n",
    "for i in xCharyLeft.itertuples():\n",
    "    node1 = i[0][0] \n",
    "    node2 = i[0][1]+'_'+str(i[0][2])\n",
    "    G.add_weighted_edges_from([(node1,node2,i[1])])    \n",
    "\n",
    "for i in xCharyRight.itertuples():\n",
    "    node1 = i[0][0] \n",
    "    node2 = i[0][1]+'||'+str(i[0][2])\n",
    "    G.add_weighted_edges_from([(node1,node2,i[1])])    \n",
    "\n",
    "for i in xCharyAll.itertuples():\n",
    "    node1 = i[0][0]\n",
    "    node2 = i[0][1]+'_'+str(i[0][2])+'||'+str(i[0][3])\n",
    "    G.add_weighted_edges_from([(node1,node2,i[1])])    \n",
    "\n",
    "\n",
    "print(G.number_of_nodes())"
   ]
  },
  {
   "cell_type": "code",
   "execution_count": null,
   "metadata": {},
   "outputs": [],
   "source": [
    "A = nx.adjacency_matrix(G,nodelist=G.nodes())\n",
    "A"
   ]
  },
  {
   "cell_type": "code",
   "execution_count": null,
   "metadata": {},
   "outputs": [],
   "source": [
    "print(A.todense())\n",
    "A = A.todense()\n"
   ]
  },
  {
   "cell_type": "code",
   "execution_count": null,
   "metadata": {},
   "outputs": [],
   "source": [
    "import numpy\n",
    "numpy.matrix.sum(A[len(G.nodes())-1])"
   ]
  },
  {
   "cell_type": "code",
   "execution_count": null,
   "metadata": {},
   "outputs": [],
   "source": [
    "print(numpy.matrix.nonzero(A[len(G.nodes())-1])[1])\n",
    "print(numpy.matrix.sum(A[len(G.nodes())-1]))\n"
   ]
  },
  {
   "cell_type": "code",
   "execution_count": null,
   "metadata": {},
   "outputs": [],
   "source": [
    "for item in numpy.matrix.nonzero(A[len(G.nodes())-1])[1]:\n",
    "    print(G.nodes()[item])"
   ]
  },
  {
   "cell_type": "code",
   "execution_count": null,
   "metadata": {},
   "outputs": [],
   "source": [
    "G.nodes()[-1]\n",
    "pd[(pd['chara_x']=='z')&(pd['lpos_x']==1)&(pd['rpos_x']==-6)]"
   ]
  }
 ],
 "metadata": {
  "kernelspec": {
   "display_name": "Python 3",
   "language": "python",
   "name": "python3"
  },
  "language_info": {
   "codemirror_mode": {
    "name": "ipython",
    "version": 3
   },
   "file_extension": ".py",
   "mimetype": "text/x-python",
   "name": "python",
   "nbconvert_exporter": "python",
   "pygments_lexer": "ipython3",
   "version": "3.6.1"
  }
 },
 "nbformat": 4,
 "nbformat_minor": 2
}
